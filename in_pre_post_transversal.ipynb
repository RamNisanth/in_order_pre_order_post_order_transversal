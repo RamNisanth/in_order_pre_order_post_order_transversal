{
 "cells": [
  {
   "cell_type": "code",
   "execution_count": 14,
   "id": "487daefd",
   "metadata": {},
   "outputs": [],
   "source": [
    "graph = {'a':['b','c'],\n",
    "        'b':['d','e'],\n",
    "        'c':['f','g'],\n",
    "        'd':['h','i'],\n",
    "        'e':[],\n",
    "        'f':[],\n",
    "        'g':[],\n",
    "        'h':[],\n",
    "        'i':[]}"
   ]
  },
  {
   "cell_type": "code",
   "execution_count": 15,
   "id": "939483a6",
   "metadata": {},
   "outputs": [],
   "source": [
    "def dfs(graph, node):\n",
    "    visited = []\n",
    "    stack = []\n",
    "    visited.append(node)\n",
    "    stack.append(node)\n",
    "    \n",
    "    while stack:\n",
    "        s=stack.pop()\n",
    "        print(s, end=\" \")\n",
    "        for n in reversed(graph[s]):\n",
    "            if n not in visited:\n",
    "                visited.append(n)\n",
    "                stack.append(n)\n"
   ]
  },
  {
   "cell_type": "code",
   "execution_count": 16,
   "id": "5930878f",
   "metadata": {},
   "outputs": [
    {
     "name": "stdout",
     "output_type": "stream",
     "text": [
      "a b d h i e c f g "
     ]
    }
   ],
   "source": [
    "dfs(graph,'a')"
   ]
  },
  {
   "cell_type": "code",
   "execution_count": null,
   "id": "bd5c3da7",
   "metadata": {},
   "outputs": [],
   "source": []
  }
 ],
 "metadata": {
  "kernelspec": {
   "display_name": "Python 3 (ipykernel)",
   "language": "python",
   "name": "python3"
  },
  "language_info": {
   "codemirror_mode": {
    "name": "ipython",
    "version": 3
   },
   "file_extension": ".py",
   "mimetype": "text/x-python",
   "name": "python",
   "nbconvert_exporter": "python",
   "pygments_lexer": "ipython3",
   "version": "3.9.13"
  }
 },
 "nbformat": 4,
 "nbformat_minor": 5
}
